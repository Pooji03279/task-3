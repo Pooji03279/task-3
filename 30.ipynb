{
 "cells": [
  {
   "cell_type": "code",
   "execution_count": 4,
   "id": "5d9043f8-4bb8-4c9e-921d-6104b00bb386",
   "metadata": {},
   "outputs": [
    {
     "name": "stdout",
     "output_type": "stream",
     "text": [
      "Defaulting to user installation because normal site-packages is not writeable\n",
      "Requirement already satisfied: matplotlib in d:\\programdata\\anaconda3\\lib\\site-packages (3.8.4)\n",
      "Requirement already satisfied: contourpy>=1.0.1 in d:\\programdata\\anaconda3\\lib\\site-packages (from matplotlib) (1.2.0)\n",
      "Requirement already satisfied: cycler>=0.10 in d:\\programdata\\anaconda3\\lib\\site-packages (from matplotlib) (0.11.0)\n",
      "Requirement already satisfied: fonttools>=4.22.0 in d:\\programdata\\anaconda3\\lib\\site-packages (from matplotlib) (4.51.0)\n",
      "Requirement already satisfied: kiwisolver>=1.3.1 in d:\\programdata\\anaconda3\\lib\\site-packages (from matplotlib) (1.4.4)\n",
      "Requirement already satisfied: numpy>=1.21 in d:\\programdata\\anaconda3\\lib\\site-packages (from matplotlib) (1.26.4)\n",
      "Requirement already satisfied: packaging>=20.0 in c:\\users\\lenovo\\appdata\\roaming\\python\\python312\\site-packages (from matplotlib) (24.1)\n",
      "Requirement already satisfied: pillow>=8 in d:\\programdata\\anaconda3\\lib\\site-packages (from matplotlib) (10.3.0)\n",
      "Requirement already satisfied: pyparsing>=2.3.1 in d:\\programdata\\anaconda3\\lib\\site-packages (from matplotlib) (3.0.9)\n",
      "Requirement already satisfied: python-dateutil>=2.7 in c:\\users\\lenovo\\appdata\\roaming\\python\\python312\\site-packages (from matplotlib) (2.9.0.post0)\n",
      "Requirement already satisfied: six>=1.5 in c:\\users\\lenovo\\appdata\\roaming\\python\\python312\\site-packages (from python-dateutil>=2.7->matplotlib) (1.16.0)\n",
      "Note: you may need to restart the kernel to use updated packages.\n"
     ]
    }
   ],
   "source": [
    "pip install matplotlib"
   ]
  },
  {
   "cell_type": "code",
   "execution_count": 1,
   "id": "f3691c86-b657-4573-bc86-a69b1af04df0",
   "metadata": {},
   "outputs": [],
   "source": [
    "import pandas as pd\n",
    "import matplotlib.pyplot as plt"
   ]
  },
  {
   "cell_type": "code",
   "execution_count": 2,
   "id": "b7d449f2-fc8b-4008-bfde-8b7f8d04cbe3",
   "metadata": {},
   "outputs": [],
   "source": [
    "data = pd.read_csv('C:\\\\Users\\\\Lenovo\\\\Downloads\\\\householdtask3.csv')"
   ]
  },
  {
   "cell_type": "code",
   "execution_count": 3,
   "id": "e841506b-b761-4e15-b2fc-b8ad9970b0ef",
   "metadata": {},
   "outputs": [
    {
     "data": {
      "text/html": [
       "<div>\n",
       "<style scoped>\n",
       "    .dataframe tbody tr th:only-of-type {\n",
       "        vertical-align: middle;\n",
       "    }\n",
       "\n",
       "    .dataframe tbody tr th {\n",
       "        vertical-align: top;\n",
       "    }\n",
       "\n",
       "    .dataframe thead th {\n",
       "        text-align: right;\n",
       "    }\n",
       "</style>\n",
       "<table border=\"1\" class=\"dataframe\">\n",
       "  <thead>\n",
       "    <tr style=\"text-align: right;\">\n",
       "      <th></th>\n",
       "      <th>year</th>\n",
       "      <th>tot_hhs</th>\n",
       "      <th>own</th>\n",
       "      <th>own_wm</th>\n",
       "      <th>own_prop</th>\n",
       "      <th>own_wm_prop</th>\n",
       "      <th>prop_hhs</th>\n",
       "      <th>age</th>\n",
       "      <th>size</th>\n",
       "      <th>income</th>\n",
       "      <th>expenditure</th>\n",
       "      <th>eqv_income</th>\n",
       "      <th>eqv_exp</th>\n",
       "    </tr>\n",
       "  </thead>\n",
       "  <tbody>\n",
       "    <tr>\n",
       "      <th>0</th>\n",
       "      <td>2008</td>\n",
       "      <td>1560859</td>\n",
       "      <td>1087580</td>\n",
       "      <td>574406</td>\n",
       "      <td>69.7</td>\n",
       "      <td>36.8</td>\n",
       "      <td>100.0</td>\n",
       "      <td>35.9</td>\n",
       "      <td>2.7</td>\n",
       "      <td>46704</td>\n",
       "      <td>42394</td>\n",
       "      <td>26869</td>\n",
       "      <td>25132</td>\n",
       "    </tr>\n",
       "    <tr>\n",
       "      <th>1</th>\n",
       "      <td>2008</td>\n",
       "      <td>185965</td>\n",
       "      <td>71256</td>\n",
       "      <td>39405</td>\n",
       "      <td>38.3</td>\n",
       "      <td>21.2</td>\n",
       "      <td>11.9</td>\n",
       "      <td>29.9</td>\n",
       "      <td>2.6</td>\n",
       "      <td>23404</td>\n",
       "      <td>25270</td>\n",
       "      <td>14258</td>\n",
       "      <td>15824</td>\n",
       "    </tr>\n",
       "    <tr>\n",
       "      <th>2</th>\n",
       "      <td>2008</td>\n",
       "      <td>312376</td>\n",
       "      <td>191470</td>\n",
       "      <td>48424</td>\n",
       "      <td>61.3</td>\n",
       "      <td>15.5</td>\n",
       "      <td>20.0</td>\n",
       "      <td>40.0</td>\n",
       "      <td>2.3</td>\n",
       "      <td>16747</td>\n",
       "      <td>21145</td>\n",
       "      <td>13402</td>\n",
       "      <td>14408</td>\n",
       "    </tr>\n",
       "    <tr>\n",
       "      <th>3</th>\n",
       "      <td>2008</td>\n",
       "      <td>312333</td>\n",
       "      <td>196203</td>\n",
       "      <td>84171</td>\n",
       "      <td>62.8</td>\n",
       "      <td>26.9</td>\n",
       "      <td>20.0</td>\n",
       "      <td>34.7</td>\n",
       "      <td>2.8</td>\n",
       "      <td>31308</td>\n",
       "      <td>29855</td>\n",
       "      <td>18917</td>\n",
       "      <td>18266</td>\n",
       "    </tr>\n",
       "    <tr>\n",
       "      <th>4</th>\n",
       "      <td>2008</td>\n",
       "      <td>312240</td>\n",
       "      <td>217657</td>\n",
       "      <td>141318</td>\n",
       "      <td>69.7</td>\n",
       "      <td>45.3</td>\n",
       "      <td>20.0</td>\n",
       "      <td>31.5</td>\n",
       "      <td>3.0</td>\n",
       "      <td>49106</td>\n",
       "      <td>46561</td>\n",
       "      <td>26870</td>\n",
       "      <td>24672</td>\n",
       "    </tr>\n",
       "    <tr>\n",
       "      <th>5</th>\n",
       "      <td>2008</td>\n",
       "      <td>312336</td>\n",
       "      <td>229014</td>\n",
       "      <td>147658</td>\n",
       "      <td>73.3</td>\n",
       "      <td>47.3</td>\n",
       "      <td>20.0</td>\n",
       "      <td>35.3</td>\n",
       "      <td>2.6</td>\n",
       "      <td>61674</td>\n",
       "      <td>52776</td>\n",
       "      <td>36691</td>\n",
       "      <td>31958</td>\n",
       "    </tr>\n",
       "    <tr>\n",
       "      <th>6</th>\n",
       "      <td>2008</td>\n",
       "      <td>311574</td>\n",
       "      <td>253235</td>\n",
       "      <td>152835</td>\n",
       "      <td>81.3</td>\n",
       "      <td>49.1</td>\n",
       "      <td>20.0</td>\n",
       "      <td>39.3</td>\n",
       "      <td>2.5</td>\n",
       "      <td>96861</td>\n",
       "      <td>72822</td>\n",
       "      <td>55637</td>\n",
       "      <td>42932</td>\n",
       "    </tr>\n",
       "    <tr>\n",
       "      <th>7</th>\n",
       "      <td>2008</td>\n",
       "      <td>312761</td>\n",
       "      <td>194358</td>\n",
       "      <td>49448</td>\n",
       "      <td>62.1</td>\n",
       "      <td>15.8</td>\n",
       "      <td>20.0</td>\n",
       "      <td>38.7</td>\n",
       "      <td>2.5</td>\n",
       "      <td>23680</td>\n",
       "      <td>16413</td>\n",
       "      <td>15190</td>\n",
       "      <td>11015</td>\n",
       "    </tr>\n",
       "    <tr>\n",
       "      <th>8</th>\n",
       "      <td>2008</td>\n",
       "      <td>311973</td>\n",
       "      <td>206342</td>\n",
       "      <td>86390</td>\n",
       "      <td>66.1</td>\n",
       "      <td>27.7</td>\n",
       "      <td>20.0</td>\n",
       "      <td>36.1</td>\n",
       "      <td>2.7</td>\n",
       "      <td>34155</td>\n",
       "      <td>29085</td>\n",
       "      <td>20357</td>\n",
       "      <td>18121</td>\n",
       "    </tr>\n",
       "    <tr>\n",
       "      <th>9</th>\n",
       "      <td>2008</td>\n",
       "      <td>311840</td>\n",
       "      <td>194361</td>\n",
       "      <td>108065</td>\n",
       "      <td>62.3</td>\n",
       "      <td>34.7</td>\n",
       "      <td>20.0</td>\n",
       "      <td>33.0</td>\n",
       "      <td>2.8</td>\n",
       "      <td>49771</td>\n",
       "      <td>42662</td>\n",
       "      <td>27203</td>\n",
       "      <td>25132</td>\n",
       "    </tr>\n",
       "  </tbody>\n",
       "</table>\n",
       "</div>"
      ],
      "text/plain": [
       "   year  tot_hhs      own  own_wm  own_prop  own_wm_prop  prop_hhs   age  \\\n",
       "0  2008  1560859  1087580  574406      69.7         36.8     100.0  35.9   \n",
       "1  2008   185965    71256   39405      38.3         21.2      11.9  29.9   \n",
       "2  2008   312376   191470   48424      61.3         15.5      20.0  40.0   \n",
       "3  2008   312333   196203   84171      62.8         26.9      20.0  34.7   \n",
       "4  2008   312240   217657  141318      69.7         45.3      20.0  31.5   \n",
       "5  2008   312336   229014  147658      73.3         47.3      20.0  35.3   \n",
       "6  2008   311574   253235  152835      81.3         49.1      20.0  39.3   \n",
       "7  2008   312761   194358   49448      62.1         15.8      20.0  38.7   \n",
       "8  2008   311973   206342   86390      66.1         27.7      20.0  36.1   \n",
       "9  2008   311840   194361  108065      62.3         34.7      20.0  33.0   \n",
       "\n",
       "   size  income  expenditure  eqv_income  eqv_exp  \n",
       "0   2.7   46704        42394       26869    25132  \n",
       "1   2.6   23404        25270       14258    15824  \n",
       "2   2.3   16747        21145       13402    14408  \n",
       "3   2.8   31308        29855       18917    18266  \n",
       "4   3.0   49106        46561       26870    24672  \n",
       "5   2.6   61674        52776       36691    31958  \n",
       "6   2.5   96861        72822       55637    42932  \n",
       "7   2.5   23680        16413       15190    11015  \n",
       "8   2.7   34155        29085       20357    18121  \n",
       "9   2.8   49771        42662       27203    25132  "
      ]
     },
     "metadata": {},
     "output_type": "display_data"
    }
   ],
   "source": [
    "display(data.head(10))"
   ]
  },
  {
   "cell_type": "code",
   "execution_count": 4,
   "id": "5db8885d-b0b0-463c-b49a-a8c28cdee72b",
   "metadata": {},
   "outputs": [
    {
     "data": {
      "image/png": "[encoded data removed]",
      "text/plain": [
       "<Figure size 640x480 with 1 Axes>"
      ]
     },
     "metadata": {},
     "output_type": "display_data"
    }
   ],
   "source": [
    "#Scatter plot with year against own\n",
    "plt.scatter(data['year'],data['own'])\n",
    "\n",
    "#Adding title to the plot\n",
    "plt.title(\"Scatter plot\")\n",
    "\n",
    "#Setting the x and y label\n",
    "plt.xlabel('year')\n",
    "plt.ylabel('own')\n",
    "\n",
    "#Showing the resultplt.show()"
   ]
  },
  {
   "cell_type": "code",
   "execution_count": 8,
   "id": "5cb8bf60-0651-4ecd-a5f2-04407f2293b1",
   "metadata": {},
   "outputs": [
    {
     "data": {
      "image/png": "[encoded data removed]",
      "text/plain": [
       "<Figure size 640x480 with 1 Axes>"
      ]
     },
     "metadata": {},
     "output_type": "display_data"
    }
   ],
   "source": [
    "#line chart with year against age\n",
    "plt.plot(data['year'])\n",
    "plt.plot(data['age'])\n",
    "\n",
    "#Adding title to the plot\n",
    "plt.title(\"Line chart\")\n",
    "\n",
    "#Setting the x and y label\n",
    "plt.xlabel('year')\n",
    "plt.ylabel('age')\n",
    "\n",
    "#Showing the result\n",
    "plt.show()\n"
   ]
  },
  {
   "cell_type": "code",
   "execution_count": 9,
   "id": "7fed1a5d-4444-4a38-a54b-973404188c95",
   "metadata": {},
   "outputs": [
    {
     "data": {
      "image/png": "[encoded data removed]",
      "text/plain": [
       "<Figure size 640x480 with 1 Axes>"
      ]
     },
     "metadata": {},
     "output_type": "display_data"
    }
   ],
   "source": [
    "#Bar chart and bar plot\n",
    "plt.bar(data['year'],data['own'])\n",
    "\n",
    "#Adding title to the plot\n",
    "plt.title(\"Bar chart\")\n",
    "\n",
    "#Setting the x and y label\n",
    "plt.xlabel('year')\n",
    "plt.ylabel('size')\n",
    "\n",
    "#Showing the result\n",
    "plt.show()"
   ]
  },
  {
   "cell_type": "code",
   "execution_count": 11,
   "id": "de8e7ce3-fc2e-4260-be00-ad253588b0b6",
   "metadata": {},
   "outputs": [
    {
     "data": {
      "image/png": "[encoded data removed]",
      "text/plain": [
       "<Figure size 640x480 with 1 Axes>"
      ]
     },
     "metadata": {},
     "output_type": "display_data"
    }
   ],
   "source": [
    "#Histogram with year against own\n",
    "plt.hist(data['year'])\n",
    "plt.hist(data['own'])\n",
    "\n",
    "#Adding title to the plot\n",
    "plt.title(\"Histogram\")\n",
    "\n",
    "#Setting the x and y label\n",
    "plt.xlabel('year')\n",
    "plt.ylabel('own')\n",
    "\n",
    "#Showing the result\n",
    "plt.show()"
   ]
  },
  {
   "cell_type": "code",
   "execution_count": null,
   "id": "cac2607b-1234-43b5-982d-1bdb7c6bdc94",
   "metadata": {},
   "outputs": [],
   "source": []
  }
 ],
 "metadata": {
  "kernelspec": {
   "display_name": "Python 3 (ipykernel)",
   "language": "python",
   "name": "python3"
  },
  "language_info": {
   "codemirror_mode": {
    "name": "ipython",
    "version": 3
   },
   "file_extension": ".py",
   "mimetype": "text/x-python",
   "name": "python",
   "nbconvert_exporter": "python",
   "pygments_lexer": "ipython3",
   "version": "3.12.4"
  }
 },
 "nbformat": 4,
 "nbformat_minor": 5
}
